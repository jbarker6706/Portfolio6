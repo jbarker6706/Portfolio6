{
  "nbformat": 4,
  "nbformat_minor": 0,
  "metadata": {
    "colab": {
      "name": "Assignment6details.ipynb",
      "provenance": [],
      "authorship_tag": "ABX9TyOBqbtp69w+XFwVgVrG05Fm",
      "include_colab_link": true
    },
    "kernelspec": {
      "name": "python3",
      "display_name": "Python 3"
    }
  },
  "cells": [
    {
      "cell_type": "markdown",
      "metadata": {
        "id": "view-in-github",
        "colab_type": "text"
      },
      "source": [
        "<a href=\"https://colab.research.google.com/github/jbarker6706/Portfolio6/blob/master/Assignment6details.ipynb\" target=\"_parent\"><img src=\"https://colab.research.google.com/assets/colab-badge.svg\" alt=\"Open In Colab\"/></a>"
      ]
    },
    {
      "cell_type": "code",
      "metadata": {
        "id": "DZDPN_p0pXRr",
        "colab_type": "code",
        "colab": {}
      },
      "source": [
        ""
      ],
      "execution_count": 0,
      "outputs": []
    },
    {
      "cell_type": "markdown",
      "metadata": {
        "id": "7drjCjeZplUa",
        "colab_type": "text"
      },
      "source": [
        "After building the A VGG16 transfer learning Model I converted the Keras model to a TF.pb using my jupyter notebook with the conversion code.\n",
        "\n"
      ]
    },
    {
      "cell_type": "markdown",
      "metadata": {
        "id": "aMjho5L6vtPY",
        "colab_type": "text"
      },
      "source": [
        "I then used the following command to convert the tensorflow graph file tf_model.pb to files NCS2 uses to classify images.\n",
        "\n",
        "mo.py --data_type FP16 --framework tf --input_model TF_model/tf_model.pb --model_name IR_model --output_dir IR_model/ --input_shape [1,224,224,1] --input vgg16_input --output dense_5/Softmax\n"
      ]
    },
    {
      "cell_type": "markdown",
      "metadata": {
        "id": "3tJ9fjSGtkGT",
        "colab_type": "text"
      },
      "source": [
        "The parameters are:\n",
        "\n",
        "–data_type is used to specify the precision you want to use. From what I know, FP32 will not work on the NCS2. Something less than FP16 should work but you might have poor results due to loss of precision\n",
        "–input_model is the path to your TF model\n",
        "–model_name is the name of the converted IR file you’ll create\n",
        "–output_dir is the directory where your IR file will be saved\n",
        "–input_shape is shape of your input tensor. In this model case it’s [1,28,28,1] because there’s one image of size 28x28 with one channel (grayscale)\n",
        "–input is used to specified the input layer of your model\n",
        "–output is used to specified the output layer of your model\n"
      ]
    },
    {
      "cell_type": "markdown",
      "metadata": {
        "id": "Njst8SXXtsrR",
        "colab_type": "text"
      },
      "source": [
        "To find the name of the input and output layers I had to execute the following commands\n",
        "\n",
        " tensorboard --logdir=/tmp/tensorboard\n",
        "\n",
        " and\n",
        "\n",
        "python /usr/lib/python3/dist-packages/tensorflow_core/python/tools/import_pb_to_tensorboard.py --model_dir TF_model/tf_model.pb --log_dir /tmp/tensorboard\n",
        "\n",
        "This started Tensorboard a diagnostic tool for tensorflow.\n",
        "Click the graphs tab and double click on the model to expand the layers to find the names of the input and output nodes."
      ]
    },
    {
      "cell_type": "markdown",
      "metadata": {
        "id": "JDnQ6xmAu0Pk",
        "colab_type": "text"
      },
      "source": [
        "At this point I have a model I can use with the compute stick. I tried to get this working but ran into errors I was unable to solve so far. I am including my python code in the repository which predicts from images humans, roads, and people on roads. This is the error I was seeing.\n",
        "\n",
        " python ~/Documents/MSDS462/assignment6/predict_humans_cars_roads.py \n",
        "Traceback (most recent call last):\n",
        "  File \"/home/jbarker6706/Documents/MSDS462/assignment6/predict_humans_cars_roads.py\", line 7, in <module>\n",
        "    from openvino.inference_engine import IENetwork, IEPlugin\n",
        "  File \"/opt/intel/openvino_2020.2.120/python/python3.6/openvino/inference_engine/__init__.py\", line 1, in <module>\n",
        "    from .ie_api import *\n",
        "ImportError: dynamic module does not define init function (initie_api)\n",
        "\n",
        "It broke when it was importing the openvino libraries."
      ]
    }
  ]
}